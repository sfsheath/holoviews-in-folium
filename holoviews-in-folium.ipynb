{
 "cells": [
  {
   "cell_type": "markdown",
   "metadata": {},
   "source": [
    "# Embed a holoviews interactive chart in a folium map (0.0.1-alpha)\n",
    "\n",
    "The out out of this notebook can be seen at\n",
    "\n",
    "https://sfsheath.github.io/holoviews-in-folium/embedded_iframe.html\n",
    "\n",
    "All very \"quick and dirty\". Is the an approach that doesn't require writing holoviews variable to a file? I tried using a hv.Renderer object, but the 'raw' html that generates has dependencies that are met when it's written out to an html file."
   ]
  },
  {
   "cell_type": "code",
   "execution_count": null,
   "metadata": {},
   "outputs": [],
   "source": [
    "import folium\n",
    "import numpy as np\n",
    "import pandas as pd\n",
    "import geopandas as gpd\n",
    "import holoviews as hv\n",
    "hv.extension('bokeh')\n",
    "# hv.extension('mapplotlib')\n",
    "\n",
    "from bokeh.models import HoverTool\n",
    "from folium import FeatureGroup, LayerControl, Map, Marker\n",
    "\n",
    "\n",
    "\n",
    "from IPython.display import HTML,IFrame\n",
    "\n",
    "%matplotlib inline"
   ]
  },
  {
   "cell_type": "markdown",
   "metadata": {},
   "source": [
    "## Load Data"
   ]
  },
  {
   "cell_type": "code",
   "execution_count": null,
   "metadata": {},
   "outputs": [],
   "source": [
    "ramphs_df = pd.read_csv('http://sebastianheath.com/roman-amphitheaters/roman-amphitheaters.csv')\n"
   ]
  },
  {
   "cell_type": "code",
   "execution_count": null,
   "metadata": {},
   "outputs": [],
   "source": [
    "# set up df for an index plot\n",
    "extmajors_df = ramphs_df.sort_values(by = 'extmajor').reset_index()[['index','label','extmajor','latitude','longitude']]\n",
    "\n",
    "extmajors_df['index'] = extmajors_df.index\n",
    "\n",
    "extmajors_df.index = extmajors_df.label\n",
    "\n",
    "extmajors_df.head(2)"
   ]
  },
  {
   "cell_type": "markdown",
   "metadata": {},
   "source": [
    "## Make the Holoviews Viz"
   ]
  },
  {
   "cell_type": "code",
   "execution_count": null,
   "metadata": {},
   "outputs": [],
   "source": [
    "use_label = 'Tours' # choose which amphitheater to highlight"
   ]
  },
  {
   "cell_type": "code",
   "execution_count": null,
   "metadata": {},
   "outputs": [],
   "source": [
    "hover = HoverTool(tooltips=[(\"\", \"@label\")])\n",
    "\n",
    "index_plot = hv.Points(extmajors_df[['index', 'extmajor','label']].dropna())\\\n",
    " .opts(plot=dict(height=300, width=400, tools=[hover],color=hv.Cycle('Blues')))\n",
    "\n",
    "h_line = hv.HLine(extmajors_df.loc[use_label,'extmajor']).options(color = 'red', line_width= 1)\n",
    "\n",
    "embed_in_folium = (index_plot * h_line).relabel(\"Exterior lengths with {} highlighted\".format(use_label))"
   ]
  },
  {
   "cell_type": "code",
   "execution_count": null,
   "metadata": {},
   "outputs": [],
   "source": [
    "%%output filename=\"embed_in_folium\" fig=\"html\" \n",
    "# I'd like to skip this step. Can I?? Will keep working on it.\n",
    "\n",
    "embed_in_folium"
   ]
  },
  {
   "cell_type": "markdown",
   "metadata": {},
   "source": [
    "## Make Folium map\n",
    "The content of the iframe is the holoviews viz saved to html."
   ]
  },
  {
   "cell_type": "code",
   "execution_count": null,
   "metadata": {},
   "outputs": [],
   "source": [
    "# get the lat/long of the amphitheater\n",
    "latitude = extmajors_df.loc[use_label,'latitude']\n",
    "longitude = extmajors_df.loc[use_label,'longitude']\n",
    "\n",
    "m = folium.Map([latitude, longitude], zoom_start=4)\n",
    "\n",
    "# get the holoviews out as a variable\n",
    "with open('embed_in_folium.html', 'r') as myfile:\n",
    "    html = myfile.read()\n",
    "\n",
    "# create an iframe, then a popup with that iframe as content\n",
    "iframe = folium.IFrame(html=html, width=450, height=300)\n",
    "popup = folium.Popup(iframe, max_width=2650)\n",
    "\n",
    "folium.CircleMarker([latitude, longitude], radius=5,popup=popup).add_to(m)\n",
    "\n",
    "m.save(\"embedded_iframe.html\", )\n",
    "m\n"
   ]
  }
 ],
 "metadata": {
  "kernelspec": {
   "display_name": "Python 3",
   "language": "python",
   "name": "python3"
  },
  "language_info": {
   "codemirror_mode": {
    "name": "ipython",
    "version": 3
   },
   "file_extension": ".py",
   "mimetype": "text/x-python",
   "name": "python",
   "nbconvert_exporter": "python",
   "pygments_lexer": "ipython3",
   "version": "3.6.4"
  }
 },
 "nbformat": 4,
 "nbformat_minor": 2
}
