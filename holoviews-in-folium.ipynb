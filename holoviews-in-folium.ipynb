{
 "cells": [
  {
   "cell_type": "markdown",
   "metadata": {},
   "source": [
    "# Embed a holoviews interactive chart in a folium map (0.0.1-alpha)\n",
    "\n",
    "The output of this notebook can be seen at\n",
    "\n",
    "https://sfsheath.github.io/holoviews-in-folium/embedded_iframe.html\n",
    "\n",
    "All very \"quick and dirty\". Is the an approach that doesn't require writing holoviews variable to a file? I tried using a hv.Renderer object, but the 'raw' html that generates has dependencies that are met when it's written out to an html file."
   ]
  },
  {
   "cell_type": "code",
   "execution_count": null,
   "metadata": {},
   "outputs": [],
   "source": [
    "import folium\n",
    "import numpy as np\n",
    "import pandas as pd\n",
    "import holoviews as hv\n",
    "hv.extension('bokeh')\n",
    "\n",
    "from bokeh.models import HoverTool\n",
    "from folium import FeatureGroup, LayerControl, Map, Marker\n",
    "from IPython.display import HTML,IFrame\n",
    "\n",
    "%matplotlib inline"
   ]
  },
  {
   "cell_type": "markdown",
   "metadata": {},
   "source": [
    "## Load Data"
   ]
  },
  {
   "cell_type": "code",
   "execution_count": null,
   "metadata": {},
   "outputs": [],
   "source": [
    "ramphs_df = pd.read_csv('http://sebastianheath.com/roman-amphitheaters/roman-amphitheaters.csv')"
   ]
  },
  {
   "cell_type": "code",
   "execution_count": null,
   "metadata": {},
   "outputs": [],
   "source": [
    "# set up df for an index plot\n",
    "extmajors_df = ramphs_df.sort_values(by = 'extmajor').reset_index()[['index','label','extmajor','latitude','longitude']]\n",
    "\n",
    "extmajors_df['index'] = extmajors_df.index\n",
    "\n",
    "extmajors_df.index = extmajors_df.label\n",
    "\n",
    "extmajors_df.head(2)"
   ]
  },
  {
   "cell_type": "markdown",
   "metadata": {},
   "source": [
    "## Make the Holoviews Embedable Index Plots"
   ]
  },
  {
   "cell_type": "code",
   "execution_count": null,
   "metadata": {},
   "outputs": [],
   "source": [
    "use_labels = ['Colosseum','Arles','Mactaris'] # choose which amphitheaters to highlight"
   ]
  },
  {
   "cell_type": "code",
   "execution_count": null,
   "metadata": {},
   "outputs": [],
   "source": [
    "hover = HoverTool(tooltips=[(\"\", \"<b>@label</b>\")])\n",
    "\n",
    "# An index plot of all know exterior lengths that is the 'background'\n",
    "# for the individual plots that highlight amphitheaters\n",
    "index_plot = hv.Points(extmajors_df[['index', 'extmajor','label']].dropna())\\\n",
    " .opts(plot=dict(height=300, width=400, tools=[hover],color=hv.Cycle('Blues')))\n",
    "\n",
    " # loop through 'use_labels' to make a horizontal line showing exterior length of that amphitheater   \n",
    "maps = {} # this will be a python dictionary that holds all holoviews layouts\n",
    "for l in use_labels:\n",
    "    h_line = hv.HLine(extmajors_df.loc[l,'extmajor']).options(color = 'red', line_width= 2, alpha=0.5 )\n",
    "    \n",
    "    # 'multiply' background and horizontal line for each amphtitheater, add result to dictionary\n",
    "    maps[l] = (index_plot * h_line).relabel(\"Exterior lengths with {} highlighted\".format(l))"
   ]
  },
  {
   "cell_type": "code",
   "execution_count": null,
   "metadata": {},
   "outputs": [],
   "source": [
    "# I'd like to skip this step. Can I?? Will keep working on it.\n",
    "# Problem is writing to files. Not really a problem, but is it necessary??\n",
    "\n",
    "for l in use_labels:\n",
    "    hv.util.output('filename=\"embed_in_folium_{}\" fig=\"html\"'.format(l))\n",
    "    maps[l]"
   ]
  },
  {
   "cell_type": "code",
   "execution_count": null,
   "metadata": {},
   "outputs": [],
   "source": [
    "renderer = hv.renderer(\"bokeh\")\n",
    "for l in use_labels:\n",
    "    renderer.save(maps[l], \"embed_in_folium_{}\".format(l))"
   ]
  },
  {
   "cell_type": "markdown",
   "metadata": {},
   "source": [
    "## Make Folium map\n",
    "The content of the iframe is the holoviews viz saved to html."
   ]
  },
  {
   "cell_type": "code",
   "execution_count": null,
   "metadata": {},
   "outputs": [],
   "source": [
    "m = folium.Map((42, 13), zoom_start=4)\n",
    "\n",
    "\n",
    "for l in use_labels:\n",
    "    # get the lat/long of the amphitheater\n",
    "    latitude = extmajors_df.loc[l,'latitude']\n",
    "    longitude = extmajors_df.loc[l,'longitude']\n",
    "\n",
    "    # get the holoviews out as a variable\n",
    "    with open('embed_in_folium_{}.html'.format(l), 'r') as embed_file:\n",
    "        html = embed_file.read()\n",
    "\n",
    "    # create an iframe, then a popup with that iframe as content\n",
    "    iframe = folium.IFrame(html=html, width=450, height=300)\n",
    "    popup = folium.Popup(iframe, max_width=2650)\n",
    "\n",
    "    folium.CircleMarker([latitude, longitude],\n",
    "                        radius=5,popup=popup,\n",
    "                        color = \"red\", fill=True, fill_color = \"red\").add_to(m)\n",
    "\n",
    "m.save(\"embedded_iframe.html\", )\n",
    "m\n"
   ]
  }
 ],
 "metadata": {
  "kernelspec": {
   "display_name": "Python 3",
   "language": "python",
   "name": "python3"
  },
  "language_info": {
   "codemirror_mode": {
    "name": "ipython",
    "version": 3
   },
   "file_extension": ".py",
   "mimetype": "text/x-python",
   "name": "python",
   "nbconvert_exporter": "python",
   "pygments_lexer": "ipython3",
   "version": "3.6.4"
  }
 },
 "nbformat": 4,
 "nbformat_minor": 2
}
