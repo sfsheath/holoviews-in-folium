{
 "cells": [
  {
   "cell_type": "markdown",
   "metadata": {},
   "source": [
    "# Embed holoviews interactive charts in a folium map (0.0.1-alpha)\n",
    "\n",
    "The output of this notebook can be seen at:\n",
    "\n",
    "https://sfsheath.github.io/holoviews-in-folium/embedded_iframe.html.\n",
    "\n",
    "The data comes from https://github.com/sfsheath/roman-amphitheaters."
   ]
  },
  {
   "cell_type": "code",
   "execution_count": null,
   "metadata": {},
   "outputs": [],
   "source": [
    "import folium\n",
    "import io\n",
    "import numpy as np\n",
    "import pandas as pd\n",
    "import holoviews as hv\n",
    "hv.extension('bokeh')\n",
    "\n",
    "from bokeh.models import HoverTool\n",
    "from folium import FeatureGroup, LayerControl, Map, Marker\n",
    "from IPython.display import HTML,IFrame\n",
    "\n",
    "%matplotlib inline"
   ]
  },
  {
   "cell_type": "markdown",
   "metadata": {},
   "source": [
    "## Load Data"
   ]
  },
  {
   "cell_type": "code",
   "execution_count": null,
   "metadata": {},
   "outputs": [],
   "source": [
    "ramphs_df = pd.read_csv('http://sebastianheath.com/roman-amphitheaters/roman-amphitheaters.csv')"
   ]
  },
  {
   "cell_type": "code",
   "execution_count": null,
   "metadata": {},
   "outputs": [],
   "source": [
    "# set up df for an index plot\n",
    "extmajors_df = ramphs_df.sort_values(by = 'extmajor').reset_index()[['index','label','extmajor','latitude','longitude']]\n",
    "\n",
    "extmajors_df['index'] = extmajors_df.index\n",
    "\n",
    "extmajors_df.index = extmajors_df.label\n",
    "\n",
    "extmajors_df.head(2)"
   ]
  },
  {
   "cell_type": "markdown",
   "metadata": {},
   "source": [
    "## Simple Case"
   ]
  },
  {
   "cell_type": "code",
   "execution_count": null,
   "metadata": {},
   "outputs": [],
   "source": [
    "# create an index plot\n",
    "hover = HoverTool(tooltips=[(\"\", \"<b>@label</b>\")])\n",
    "index_plot = hv.Points(extmajors_df[['index', 'extmajor','label']].dropna())\\\n",
    " .opts(plot=dict(height=300, width=400, tools=[hover])).relabel(\"Index Plot of Roman Amphitheaters\")"
   ]
  },
  {
   "cell_type": "code",
   "execution_count": null,
   "metadata": {},
   "outputs": [],
   "source": [
    "# get lat/long of Colosseum. That's as good as any center point for map\n",
    "latitude = extmajors_df.loc['Colosseum','latitude']\n",
    "longitude = extmajors_df.loc['Colosseum','longitude']\n",
    "\n",
    "# create map\n",
    "m = folium.Map((latitude, longitude), zoom_start=4)\n",
    "\n",
    "# renderer.save() will 'write' to 'f', which can then be 'read'.\n",
    "renderer = hv.renderer(\"bokeh\")\n",
    "f = io.BytesIO()\n",
    "renderer.save(index_plot,f)\n",
    "html = f.read().decode(\"utf-8\")\n",
    "f.close() # I think this is good practice\n",
    "# the variable html can now be displayed in an iframe\n",
    "    \n",
    "# create an iframe using the html variable, then a popup with that iframe as content\n",
    "iframe = folium.IFrame(html=html, width=450, height=300)\n",
    "popup = folium.Popup(iframe, max_width=2650)\n",
    "\n",
    "# create a marker with the popup\n",
    "folium.Marker([latitude, longitude], popup=popup).add_to(m)\n",
    "\n",
    "#display the map\n",
    "m"
   ]
  },
  {
   "cell_type": "markdown",
   "metadata": {},
   "source": [
    "## More Ambitious: Index Plots with Highlight for Every Amphitheater\n",
    "Or at least those amphitheaters with known extior lengths"
   ]
  },
  {
   "cell_type": "code",
   "execution_count": null,
   "metadata": {},
   "outputs": [],
   "source": [
    "# choose which amphitheaters to highlight\n",
    "# use_labels = ramphs_df.query(\"label in ['Colosseum','Arles','Mactaris','Bern','Cassino']\").label.tolist() \n",
    "\n",
    "# this will plot all amphitheaters with known exterior lengths\n",
    "use_labels = ramphs_df[ramphs_df.extmajor.notna()].label.tolist()"
   ]
  },
  {
   "cell_type": "code",
   "execution_count": null,
   "metadata": {},
   "outputs": [],
   "source": [
    "# An index plot of all known max exterior lengths that is the 'background'\n",
    "# for the individual plots that highlight individual amphitheater length\n",
    "hover = HoverTool(tooltips=[(\"\", \"<b>@label</b>\")])\n",
    "\n",
    "index_plot = hv.Points(extmajors_df[['index', 'extmajor','label']].dropna())\\\n",
    " .opts(plot=dict(height=300, width=400, tools=[hover]))"
   ]
  },
  {
   "cell_type": "code",
   "execution_count": null,
   "metadata": {},
   "outputs": [],
   "source": [
    "# loop through 'use_labels' to make a horizontal line showing exterior length of that amphitheater   \n",
    "maps = {} # this will be a python dictionary that holds all holoviews layouts\n",
    "for l in use_labels:\n",
    "    h_line = hv.HLine(extmajors_df.loc[l,'extmajor']).options(color = 'red', line_width= 2, alpha=0.5 )\n",
    "    \n",
    "    # 'multiply' background and horizontal line for each amphtitheater, add result to dictionary\n",
    "    maps[l] = (index_plot * h_line).relabel(\"Exterior lengths with {} highlighted\".format(l))"
   ]
  },
  {
   "cell_type": "markdown",
   "metadata": {},
   "source": [
    "## Make Folium map\n",
    "The content of each iframe is the holoviews viz as captured in a BytesIO variable"
   ]
  },
  {
   "cell_type": "code",
   "execution_count": null,
   "metadata": {},
   "outputs": [],
   "source": [
    "renderer = hv.renderer(\"bokeh\")\n",
    "\n",
    "m = folium.Map((42, 13), zoom_start=4)\n",
    "\n",
    "# create a group to hold amphitheaters with hv popups\n",
    "extmajors_g = folium.FeatureGroup(name = \"Known Size\")\n",
    "\n",
    "for l in use_labels:\n",
    "    # get the lat/long of the amphitheater\n",
    "    latitude, longitude = extmajors_df.loc[l,['latitude','longitude']]\n",
    "\n",
    "    # renderer.save() will 'write' to 'f', which can then be 'read'.\n",
    "    f = io.BytesIO()\n",
    "    renderer.save(maps[l],f)\n",
    "    html = f.read().decode(\"utf-8\")\n",
    "    f.close() # I think this is good practice\n",
    "    \n",
    "    # create an iframe using the html variable, then a popup with that iframe as content\n",
    "    iframe = folium.IFrame(html=html, width=450, height=300)\n",
    "    popup = folium.Popup(iframe, max_width=2650)\n",
    "\n",
    "    # create a marker\n",
    "    folium.CircleMarker([latitude, longitude],\n",
    "                        radius=5,popup=popup,\n",
    "                        color = \"red\", fill=True, fill_color = \"red\").add_to(extmajors_g)\n",
    "extmajors_g.add_to(m)\n",
    "\n",
    "#  create a group for amphitheaters with no data\n",
    "nodata_g = folium.FeatureGroup(name = \"Size not Recorded (yet?)\")\n",
    "\n",
    "for index,row in ramphs_df[ramphs_df.extmajor.isna()].iterrows():\n",
    "    latitude, longitude = row[['latitude','longitude']]\n",
    "    \n",
    "    folium.CircleMarker([latitude, longitude],\n",
    "                        radius=2,popup='<b>{}</>'.format(row.label),\n",
    "                        color = 'black', fill=True, fill_color = 'black').add_to(nodata_g)\n",
    "            \n",
    "    \n",
    "nodata_g.add_to(m)\n",
    "\n",
    "folium.LayerControl().add_to(m)\n",
    "\n",
    "\n",
    "m.save(\"embedded_iframe.html\")\n",
    "m"
   ]
  }
 ],
 "metadata": {
  "kernelspec": {
   "display_name": "Python 3",
   "language": "python",
   "name": "python3"
  },
  "language_info": {
   "codemirror_mode": {
    "name": "ipython",
    "version": 3
   },
   "file_extension": ".py",
   "mimetype": "text/x-python",
   "name": "python",
   "nbconvert_exporter": "python",
   "pygments_lexer": "ipython3",
   "version": "3.6.4"
  }
 },
 "nbformat": 4,
 "nbformat_minor": 2
}
