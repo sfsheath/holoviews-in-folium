{
 "cells": [
  {
   "cell_type": "markdown",
   "metadata": {},
   "source": [
    "# Embed a holoviews interactive chart in a folium map (0.0.1-alpha)\n",
    "\n",
    "The out out of this notebook can be seen at\n",
    "\n",
    "https://sfsheath.github.io/holoviews-in-folium/embedded_iframe.html\n",
    "\n",
    "All very \"quick and dirty\". Is the an approach that doesn't require writing holoviews variable to a file? I tried using a hv.Renderer object, but the 'raw' html that generates has dependencies that are met when it's written out to an html file."
   ]
  },
  {
   "cell_type": "code",
   "execution_count": null,
   "metadata": {},
   "outputs": [],
   "source": [
    "import folium\n",
    "import numpy as np\n",
    "import pandas as pd\n",
    "import geopandas as gpd\n",
    "import holoviews as hv\n",
    "hv.extension('bokeh')\n",
    "# hv.extension('mapplotlib')\n",
    "\n",
    "from bokeh.models import HoverTool\n",
    "from folium import FeatureGroup, LayerControl, Map, Marker\n",
    "\n",
    "\n",
    "\n",
    "from IPython.display import HTML,IFrame\n",
    "\n",
    "%matplotlib inline"
   ]
  },
  {
   "cell_type": "markdown",
   "metadata": {},
   "source": [
    "## Load data and simple pandas plotting"
   ]
  },
  {
   "cell_type": "code",
   "execution_count": null,
   "metadata": {},
   "outputs": [],
   "source": [
    "ramphs_df = pd.read_csv('roman-amphitheaters.csv')\n",
    "chronogrps_df = pd.read_csv('chronogrps.csv')"
   ]
  },
  {
   "cell_type": "code",
   "execution_count": null,
   "metadata": {},
   "outputs": [],
   "source": [
    "# create a holoviews chart, any holoviews chart. \n",
    "\n",
    "cap_summed_df = ramphs_df.groupby(by = 'modcountry', as_index=False).sum()\\\n",
    "   .sort_values(by = 'capacity', ascending = False)\n",
    "\n",
    "cap_hover = HoverTool(tooltips=[(\"capacity\", \"@capacity{int}\")])\n",
    "    \n",
    "imp_bars = hv.Bars(cap_summed_df[['modcountry', 'capacity']])\\\n",
    ".options(height=300, fill_color='pink', color='pink', xrotation = 90)\n",
    "\n",
    "\n"
   ]
  },
  {
   "cell_type": "code",
   "execution_count": null,
   "metadata": {},
   "outputs": [],
   "source": [
    "%%output filename=\"embed_bokeh\" fig=\"html\" \n",
    "# I'd like to skip this step. Can I?? Will keep working on it.\n",
    "\n",
    "hv.extension('bokeh')\n",
    "imp_bars.options(xrotation = 90,tools=[cap_hover])"
   ]
  },
  {
   "cell_type": "code",
   "execution_count": null,
   "metadata": {},
   "outputs": [],
   "source": [
    "# make a folium map. \n",
    "m = folium.Map([46, 14], zoom_start=4)\n",
    "\n",
    "# get the holoviews out as a variable\n",
    "with open('embed_bokeh.html', 'r') as myfile:\n",
    "  data = myfile.read()\n",
    "\n",
    "html = data\n",
    "\n",
    "# create and iframe than a popup with that iframe as content\n",
    "iframe = folium.IFrame(html=html, width=300, height=300)\n",
    "popup = folium.Popup(iframe, max_width=2650)\n",
    "\n",
    "\n",
    "folium.Marker([46, 14], popup=popup).add_to(m)\n",
    "\n",
    "\n",
    "\n",
    "m.save(\"embedded_iframe.html\", )\n",
    "m\n"
   ]
  }
 ],
 "metadata": {
  "kernelspec": {
   "display_name": "Python 3",
   "language": "python",
   "name": "python3"
  },
  "language_info": {
   "codemirror_mode": {
    "name": "ipython",
    "version": 3
   },
   "file_extension": ".py",
   "mimetype": "text/x-python",
   "name": "python",
   "nbconvert_exporter": "python",
   "pygments_lexer": "ipython3",
   "version": "3.6.4"
  }
 },
 "nbformat": 4,
 "nbformat_minor": 2
}
