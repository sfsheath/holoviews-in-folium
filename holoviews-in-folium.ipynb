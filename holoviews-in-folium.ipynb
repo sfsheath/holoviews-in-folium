{
 "cells": [
  {
   "cell_type": "markdown",
   "metadata": {},
   "source": [
    "# Embed a holoviews interactive chart in a folium map (0.0.1-alpha)\n",
    "\n",
    "The output of this notebook can be seen at\n",
    "\n",
    "https://sfsheath.github.io/holoviews-in-folium/embedded_iframe.html\n",
    "\n",
    "All very \"quick and dirty\". Is the an approach that doesn't require writing holoviews variable to a file? I tried using a hv.Renderer object, but the 'raw' html that generates has dependencies that are met when it's written out to an html file."
   ]
  },
  {
   "cell_type": "code",
   "execution_count": null,
   "metadata": {},
   "outputs": [],
   "source": [
    "import folium\n",
    "import io\n",
    "import numpy as np\n",
    "import pandas as pd\n",
    "import holoviews as hv\n",
    "hv.extension('bokeh')\n",
    "\n",
    "from bokeh.models import HoverTool\n",
    "from folium import FeatureGroup, LayerControl, Map, Marker\n",
    "from IPython.display import HTML,IFrame\n",
    "\n",
    "%matplotlib inline"
   ]
  },
  {
   "cell_type": "markdown",
   "metadata": {},
   "source": [
    "## Load Data"
   ]
  },
  {
   "cell_type": "code",
   "execution_count": null,
   "metadata": {},
   "outputs": [],
   "source": [
    "ramphs_df = pd.read_csv('http://sebastianheath.com/roman-amphitheaters/roman-amphitheaters.csv')"
   ]
  },
  {
   "cell_type": "code",
   "execution_count": null,
   "metadata": {},
   "outputs": [],
   "source": [
    "# set up df for an index plot\n",
    "extmajors_df = ramphs_df.sort_values(by = 'extmajor').reset_index()[['index','label','extmajor','latitude','longitude']]\n",
    "\n",
    "extmajors_df['index'] = extmajors_df.index\n",
    "\n",
    "extmajors_df.index = extmajors_df.label\n",
    "\n",
    "extmajors_df.head(2)"
   ]
  },
  {
   "cell_type": "markdown",
   "metadata": {},
   "source": [
    "## Make the Holoviews Embedable Index Plots"
   ]
  },
  {
   "cell_type": "code",
   "execution_count": null,
   "metadata": {},
   "outputs": [],
   "source": [
    "# choose which amphitheaters to highlight\n",
    "# use_labels = ramphs_df.query(\"label in ['Colosseum','Arles','Mactaris','Bern','Cassino']\").label.tolist() \n",
    "\n",
    "# this will plot all amphitheaters with known exterior lengths\n",
    "use_labels = ramphs_df[ramphs_df.extmajor.notna()].label.tolist()"
   ]
  },
  {
   "cell_type": "code",
   "execution_count": null,
   "metadata": {},
   "outputs": [],
   "source": [
    "hover = HoverTool(tooltips=[(\"\", \"<b>@label</b>\")])\n",
    "\n",
    "# An index plot of all know exterior lengths that is the 'background'\n",
    "# for the individual plots that highlight amphitheaters\n",
    "index_plot = hv.Points(extmajors_df[['index', 'extmajor','label']].dropna())\\\n",
    " .opts(plot=dict(height=300, width=400, tools=[hover],color=hv.Cycle('Blues')))"
   ]
  },
  {
   "cell_type": "code",
   "execution_count": null,
   "metadata": {},
   "outputs": [],
   "source": [
    "# loop through 'use_labels' to make a horizontal line showing exterior length of that amphitheater   \n",
    "maps = {} # this will be a python dictionary that holds all holoviews layouts\n",
    "for l in use_labels:\n",
    "    h_line = hv.HLine(extmajors_df.loc[l,'extmajor']).options(color = 'red', line_width= 2, alpha=0.5 )\n",
    "    \n",
    "    # 'multiply' background and horizontal line for each amphtitheater, add result to dictionary\n",
    "    maps[l] = (index_plot * h_line).relabel(\"Exterior lengths with {} highlighted\".format(l))"
   ]
  },
  {
   "cell_type": "markdown",
   "metadata": {},
   "source": [
    "## Make Folium map\n",
    "The content of each iframe is the holoviews viz as captured in a BytesIO variable"
   ]
  },
  {
   "cell_type": "code",
   "execution_count": null,
   "metadata": {},
   "outputs": [],
   "source": [
    "renderer = hv.renderer(\"bokeh\")\n",
    "\n",
    "m = folium.Map((42, 13), zoom_start=4)\n",
    "\n",
    "\n",
    "for l in use_labels:\n",
    "    # get the lat/long of the amphitheater\n",
    "    latitude = extmajors_df.loc[l,'latitude']\n",
    "    longitude = extmajors_df.loc[l,'longitude']\n",
    "\n",
    "    # renderer.save() will 'write' to 'f', which can then be 'read'.\n",
    "    f = io.BytesIO()\n",
    "    renderer.save(maps[l],f)\n",
    "    html = f.read().decode(\"utf-8\")\n",
    "    f.close() # I think this is good practice\n",
    "    \n",
    "    # create an iframe using the html variable, then a popup with that iframe as content\n",
    "    iframe = folium.IFrame(html=html, width=450, height=300)\n",
    "    popup = folium.Popup(iframe, max_width=2650)\n",
    "\n",
    "    folium.CircleMarker([latitude, longitude],\n",
    "                        radius=5,popup=popup,\n",
    "                        color = \"red\", fill=True, fill_color = \"red\").add_to(m)\n",
    "\n",
    "m.save(\"embedded_iframe.html\", )\n",
    "m\n"
   ]
  }
 ],
 "metadata": {
  "kernelspec": {
   "display_name": "Python 3",
   "language": "python",
   "name": "python3"
  },
  "language_info": {
   "codemirror_mode": {
    "name": "ipython",
    "version": 3
   },
   "file_extension": ".py",
   "mimetype": "text/x-python",
   "name": "python",
   "nbconvert_exporter": "python",
   "pygments_lexer": "ipython3",
   "version": "3.6.4"
  }
 },
 "nbformat": 4,
 "nbformat_minor": 2
}
